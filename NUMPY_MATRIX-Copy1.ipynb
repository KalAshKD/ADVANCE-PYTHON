{
 "cells": [
  {
   "cell_type": "code",
   "execution_count": 1,
   "metadata": {},
   "outputs": [],
   "source": [
    "import numpy as matrix"
   ]
  },
  {
   "cell_type": "markdown",
   "metadata": {},
   "source": [
    "# MATRIX \n",
    "## it is an array of 2d array or 2dlist "
   ]
  },
  {
   "cell_type": "code",
   "execution_count": 45,
   "metadata": {},
   "outputs": [
    {
     "name": "stdout",
     "output_type": "stream",
     "text": [
      "Og MATRIX IS  [[0 1 2 3]\n",
      " [4 5 6 7]]\n",
      "\n",
      "2 Og MATRIX IS  [[ 0.          1.42857143  2.85714286  4.28571429]\n",
      " [ 5.71428571  7.14285714  8.57142857 10.        ]]\n"
     ]
    }
   ],
   "source": [
    "Matrix = matrix.arange(8).reshape(2,4)\n",
    "Matrix2 = matrix.linspace(0,10,8).reshape(2,4)\n",
    "print \"Og MATRIX IS \", Matrix\n",
    "print \n",
    "print \"2 Og MATRIX IS \", Matrix2"
   ]
  },
  {
   "cell_type": "code",
   "execution_count": 46,
   "metadata": {},
   "outputs": [
    {
     "name": "stdout",
     "output_type": "stream",
     "text": [
      "Addition is  [[ 0.          2.42857143  4.85714286  7.28571429]\n",
      " [ 9.71428571 12.14285714 14.57142857 17.        ]]\n",
      "\n",
      "Subtraction is  [[ 0.         -0.42857143 -0.85714286 -1.28571429]\n",
      " [-1.71428571 -2.14285714 -2.57142857 -3.        ]]\n",
      "\n",
      "Multiplication  is  [[ 0.          1.42857143  5.71428571 12.85714286]\n",
      " [22.85714286 35.71428571 51.42857143 70.        ]]\n",
      "\n",
      "Division is  [[nan 0.7 0.7 0.7]\n",
      " [0.7 0.7 0.7 0.7]]\n",
      "\n",
      "Square root of each element  is  [[0.         1.         1.41421356 1.73205081]\n",
      " [2.         2.23606798 2.44948974 2.64575131]]\n",
      "\n",
      "summesion of all elements is  28\n",
      "\n",
      "Summesion of column elements is  [ 4  6  8 10]\n",
      "\n",
      "Summesion of all row elements is  [ 6 22]\n",
      "\n",
      "Transpostion   [ 4  6  8 10]\n",
      "\n",
      "Transpostion   [ 4  6  8 10]\n"
     ]
    },
    {
     "name": "stderr",
     "output_type": "stream",
     "text": [
      "C:\\ProgramData\\Anaconda2\\lib\\site-packages\\ipykernel_launcher.py:11: RuntimeWarning: invalid value encountered in divide\n",
      "  # This is added back by InteractiveShellApp.init_path()\n"
     ]
    }
   ],
   "source": [
    "def matrix_operations(m1,m2):\n",
    "    addi=matrix.add(m1,m2)\n",
    "    print \"Addition is \",addi\n",
    "    print\n",
    "    sub=matrix.subtract(m1,m2)\n",
    "    print \"Subtraction is \",sub\n",
    "    print\n",
    "    mul=matrix.multiply(m1,m2)\n",
    "    print \"Multiplication  is \",mul\n",
    "    print\n",
    "    div=matrix.divide(m1,m2)\n",
    "    print \"Division is \",div\n",
    "    print\n",
    "    sqroot=matrix.sqrt(m1,m2)\n",
    "    print \"Square root of each element  is \",sqroot\n",
    "    print\n",
    "    summ_total=matrix.sum(m1)\n",
    "    print \"summesion of all elements is \",summ_total\n",
    "    print\n",
    "    summ_0=matrix.sum(m1,axis=0)\n",
    "    print \"Summesion of column elements is \",summ_0\n",
    "    print\n",
    "    summ_1=matrix.sum(m1,axis=1)\n",
    "    print \"Summesion of all row elements is \",summ_1\n",
    "    print\n",
    "    Transopse=m1.T\n",
    "    print \"Transpostion  \",summ_0\n",
    "    print\n",
    "    Transopse=m2.T\n",
    "    print \"Transpostion  \",summ_0\n",
    "matrix_operations(Matrix,Matrix2)\n",
    "    \n",
    "    "
   ]
  },
  {
   "cell_type": "code",
   "execution_count": 47,
   "metadata": {},
   "outputs": [
    {
     "data": {
      "text/plain": [
       "2"
      ]
     },
     "execution_count": 47,
     "metadata": {},
     "output_type": "execute_result"
    }
   ],
   "source": [
    "len(Matrix)"
   ]
  },
  {
   "cell_type": "code",
   "execution_count": 48,
   "metadata": {},
   "outputs": [
    {
     "data": {
      "text/plain": [
       "4"
      ]
     },
     "execution_count": 48,
     "metadata": {},
     "output_type": "execute_result"
    }
   ],
   "source": [
    "len(Matrix[0])"
   ]
  },
  {
   "cell_type": "code",
   "execution_count": 49,
   "metadata": {},
   "outputs": [
    {
     "name": "stdout",
     "output_type": "stream",
     "text": [
      "[0 1 2 3]\n",
      "0\n",
      "1\n",
      "2\n",
      "3\n",
      "[4 5 6 7]\n",
      "4\n",
      "5\n",
      "6\n",
      "7\n",
      "28\n"
     ]
    }
   ],
   "source": [
    "suum=0\n",
    "for i in Matrix:\n",
    "    print(i)\n",
    "    for j in i:\n",
    "        print(j)\n",
    "        suum=suum+j\n",
    "        j=j+1\n",
    "print(suum)"
   ]
  },
  {
   "cell_type": "code",
   "execution_count": 50,
   "metadata": {},
   "outputs": [
    {
     "name": "stdout",
     "output_type": "stream",
     "text": [
      "7\n",
      "6\n"
     ]
    }
   ],
   "source": [
    "print(max(i))\n",
    "print(max(i)-1)"
   ]
  },
  {
   "cell_type": "code",
   "execution_count": 2,
   "metadata": {},
   "outputs": [],
   "source": [
    "##matlib\n",
    "import numpy.matlib as MATLIB"
   ]
  },
  {
   "cell_type": "code",
   "execution_count": 3,
   "metadata": {},
   "outputs": [
    {
     "name": "stdout",
     "output_type": "stream",
     "text": [
      "('Output matrix : ', matrix([[1.58010682e-316, 1.58176144e-316, 7.74729885e-315],\n",
      "        [3.34385250e-316, 0.00000000e+000, 0.00000000e+000]]))\n"
     ]
    }
   ],
   "source": [
    "out_mat = MATLIB.empty((2, 3))  \n",
    "print (\"Output matrix : \", out_mat)"
   ]
  },
  {
   "cell_type": "code",
   "execution_count": 4,
   "metadata": {},
   "outputs": [
    {
     "name": "stdout",
     "output_type": "stream",
     "text": [
      "[[1 0 0 0]\n",
      " [0 1 0 0]\n",
      " [0 0 1 0]\n",
      " [0 0 0 1]]\n"
     ]
    }
   ],
   "source": [
    "## EYE same as array\n",
    "matr=MATLIB.eye(4,4,k=0,dtype=int,order=\"F\")\n",
    "print(matr)"
   ]
  },
  {
   "cell_type": "code",
   "execution_count": 5,
   "metadata": {},
   "outputs": [
    {
     "name": "stdout",
     "output_type": "stream",
     "text": [
      "[10, 10, 10]\n",
      "[10, 10, 10]\n",
      "[10, 10, 10]\n",
      "whle in list ccomprehension [first add element of X,Y then len(X[0]) and then len(X)]\n"
     ]
    }
   ],
   "source": [
    "# Program to add two matrices using nested loop\n",
    "\n",
    "X = [[1,2,3],[4 ,5,6],[7 ,8,9]]\n",
    "\n",
    "Y = [[9,8,7],[6,5,4],[3,2,1]]\n",
    "\n",
    "\n",
    "result = [[0,0,0],[0,0,0],[0,0,0]]\n",
    "\n",
    "# iterate through rows\n",
    "for i in range(len(X)): \n",
    "# iterate through columns\n",
    "    for j in range(len(X[0])):\n",
    "        result[i][j] = X[i][j] + Y[i][j]\n",
    "\n",
    "for r in result:\n",
    "    print(r)\n",
    "\n",
    "    \n",
    "print(\"whle in list ccomprehension [first add element of X,Y then len(X[0]) and then len(X)]\")"
   ]
  },
  {
   "cell_type": "code",
   "execution_count": 6,
   "metadata": {},
   "outputs": [
    {
     "name": "stdout",
     "output_type": "stream",
     "text": [
      "[[1 0 0 0 0]\n",
      " [0 1 0 0 0]\n",
      " [0 0 1 0 0]\n",
      " [0 0 0 1 0]\n",
      " [0 0 0 0 1]]\n"
     ]
    }
   ],
   "source": [
    "identity_matrix = MATLIB.identity(5,dtype=int)\n",
    "print(identity_matrix)"
   ]
  },
  {
   "cell_type": "code",
   "execution_count": null,
   "metadata": {},
   "outputs": [],
   "source": []
  }
 ],
 "metadata": {
  "kernelspec": {
   "display_name": "Python 2",
   "language": "python",
   "name": "python2"
  },
  "language_info": {
   "codemirror_mode": {
    "name": "ipython",
    "version": 2
   },
   "file_extension": ".py",
   "mimetype": "text/x-python",
   "name": "python",
   "nbconvert_exporter": "python",
   "pygments_lexer": "ipython2",
   "version": "2.7.14"
  }
 },
 "nbformat": 4,
 "nbformat_minor": 2
}
