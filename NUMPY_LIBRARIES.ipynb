{
 "cells": [
  {
   "cell_type": "code",
   "execution_count": 1,
   "metadata": {},
   "outputs": [],
   "source": [
    "import numpy as np "
   ]
  },
  {
   "cell_type": "code",
   "execution_count": 3,
   "metadata": {},
   "outputs": [
    {
     "data": {
      "text/plain": [
       "'1.14.0'"
      ]
     },
     "execution_count": 3,
     "metadata": {},
     "output_type": "execute_result"
    }
   ],
   "source": [
    "np.__version__"
   ]
  },
  {
   "cell_type": "code",
   "execution_count": 4,
   "metadata": {},
   "outputs": [
    {
     "name": "stdout",
     "output_type": "stream",
     "text": [
      "[1 2 2 3 4 5]\n"
     ]
    }
   ],
   "source": [
    "arr = np.array([1,2,2,3,4,5])\n",
    "print arr"
   ]
  },
  {
   "cell_type": "code",
   "execution_count": 5,
   "metadata": {},
   "outputs": [
    {
     "data": {
      "text/plain": [
       "numpy.ndarray"
      ]
     },
     "execution_count": 5,
     "metadata": {},
     "output_type": "execute_result"
    }
   ],
   "source": [
    "type(arr)"
   ]
  },
  {
   "cell_type": "code",
   "execution_count": 7,
   "metadata": {},
   "outputs": [
    {
     "name": "stdout",
     "output_type": "stream",
     "text": [
      "<type 'numpy.ndarray'>\n"
     ]
    }
   ],
   "source": [
    "# converting tuple to array tup=np.array()\n",
    "tup = np.array((1,2,2,3,4,5))\n",
    "print type(tup)"
   ]
  },
  {
   "cell_type": "code",
   "execution_count": 2,
   "metadata": {},
   "outputs": [
    {
     "name": "stdout",
     "output_type": "stream",
     "text": [
      "[1 2 2 3 4 5]\n",
      "[list([1, 2, 2, 3, 4, 5]) list([6, 7, 8, 9, 10])]\n",
      "[list([1, 2, 2, 3, 4, 5]) list([6, 7, 8, 9, 10])\n",
      " list([11, 12, 13, 14, 15])]\n",
      "[1 2 2 3 4 5]\n"
     ]
    }
   ],
   "source": [
    "arr1d = np.array([1,2,2,3,4,5])\n",
    "print arr1d\n",
    "arr2d = np.array([[1,2,2,3,4,5],[6,7,8,9,10]])\n",
    "print arr2d\n",
    "arr3d = np.array([[1,2,2,3,4,5],[6,7,8,9,10],[11,12,13,14,15]])\n",
    "print arr3d\n",
    "higherdim_arr= np.array([1,2,2,3,4,5])\n",
    "print higherdim_arr"
   ]
  },
  {
   "cell_type": "code",
   "execution_count": 6,
   "metadata": {},
   "outputs": [
    {
     "name": "stdout",
     "output_type": "stream",
     "text": [
      "(2L, 4L)\n",
      "8\n",
      "[1 2 2 3 4 5]\n",
      "No of dim of arr 1\n",
      "shape of arr (6L,)\n",
      "Size of arr 6\n",
      "data type  of arr 1\n",
      "Length of array is  6\n"
     ]
    }
   ],
   "source": [
    "arr = np.array([1,2,2,3,4,5])\n",
    "arr2=np.array([[1,2,3,5],[4,5,6,8]])\n",
    "print arr2.shape\n",
    "print arr2.size\n",
    "print arr\n",
    "\n",
    "print \"No of dim of arr\",arr.ndim\n",
    "print \"shape of arr\",arr.shape\n",
    "print \"Size of arr\",arr.size\n",
    "print \"data type  of arr\",arr.ndim\n",
    "\n",
    "print \"Length of array is \",len(arr)"
   ]
  },
  {
   "cell_type": "markdown",
   "metadata": {},
   "source": [
    "## Accessing arrays \n"
   ]
  },
  {
   "cell_type": "code",
   "execution_count": 18,
   "metadata": {},
   "outputs": [
    {
     "name": "stdout",
     "output_type": "stream",
     "text": [
      "[1 2 2 3 4 5]\n",
      "1\n",
      "4\n"
     ]
    }
   ],
   "source": [
    "print arr\n",
    "print arr[0]\n",
    "print arr[1] + arr[2]"
   ]
  },
  {
   "cell_type": "markdown",
   "metadata": {},
   "source": [
    "## Accessing 2d arrays \n",
    "## using comas \n",
    "## arr[upper_index,lower_index]"
   ]
  },
  {
   "cell_type": "code",
   "execution_count": 24,
   "metadata": {},
   "outputs": [
    {
     "name": "stdout",
     "output_type": "stream",
     "text": [
      "[[ 1  2  3  4  5  6]\n",
      " [ 7  8  9 10 11 12]]\n",
      "2\n",
      "9\n",
      "6\n"
     ]
    }
   ],
   "source": [
    "arr_2d=np.array([[1,2,3,4,5,6],[7,8,9,10,11,12]])\n",
    "print arr_2d  \n",
    "\n",
    "print arr_2d[0,1]\n",
    "print arr_2d[1,2]\n",
    "print arr_2d[0,5]"
   ]
  },
  {
   "cell_type": "markdown",
   "metadata": {},
   "source": [
    "## Accessing 3d arrays"
   ]
  },
  {
   "cell_type": "code",
   "execution_count": 27,
   "metadata": {},
   "outputs": [
    {
     "name": "stdout",
     "output_type": "stream",
     "text": [
      "[[[ 1  2  3]\n",
      "  [ 4  5  6]]\n",
      "\n",
      " [[ 7  8  9]\n",
      "  [10 11 12]]]\n",
      "6\n",
      "1\n",
      "11\n"
     ]
    }
   ],
   "source": [
    "ARR = np.array([[[1, 2, 3], [4, 5, 6]], [[7, 8, 9], [10, 11, 12]]])\n",
    "print ARR\n",
    "\n",
    "print ARR[0, 1, 2]\n",
    "print ARR[0, 0, 0]\n",
    "print ARR[1, 1, 1]"
   ]
  },
  {
   "cell_type": "code",
   "execution_count": 32,
   "metadata": {},
   "outputs": [
    {
     "name": "stdout",
     "output_type": "stream",
     "text": [
      "[10 11 12]\n",
      "[4 5 6]\n",
      "[7 8 9]\n",
      "[1 2 3]\n"
     ]
    }
   ],
   "source": [
    "print ARR[1, -1]\n",
    "print ARR[0, -1]\n",
    "print ARR[1, -2]\n",
    "print ARR[0, -2]"
   ]
  },
  {
   "cell_type": "markdown",
   "metadata": {},
   "source": [
    "## Slicing arrays"
   ]
  },
  {
   "cell_type": "code",
   "execution_count": 4,
   "metadata": {},
   "outputs": [
    {
     "name": "stdout",
     "output_type": "stream",
     "text": [
      "[1 2 4]\n"
     ]
    }
   ],
   "source": [
    "a1 = np.array([1,2,2,3,4,5])\n",
    "print a1[0:5:2]"
   ]
  },
  {
   "cell_type": "code",
   "execution_count": 5,
   "metadata": {},
   "outputs": [
    {
     "name": "stdout",
     "output_type": "stream",
     "text": [
      "[ 5  6  7  8  9 10]\n"
     ]
    }
   ],
   "source": [
    "a2=np.array([1,2,3,4,5,6,7,8,9,10])\n",
    "print a2[4:]"
   ]
  },
  {
   "cell_type": "code",
   "execution_count": 14,
   "metadata": {},
   "outputs": [
    {
     "name": "stdout",
     "output_type": "stream",
     "text": [
      "[1 2 3 4 5]\n",
      "[7 8 9]\n",
      "[2 5 8]\n",
      "[10  9  8]\n",
      "[7 8 9]\n"
     ]
    }
   ],
   "source": [
    "a2=np.array([1,2,3,4,5,6,7,8,9,10])\n",
    "print a2[:5]\n",
    "print a2[-4:-1]\n",
    "print a2[1:9:3]\n",
    "print a2[-1:-4:-1]\n",
    "print a2[-4:-1:1]"
   ]
  },
  {
   "cell_type": "markdown",
   "metadata": {},
   "source": [
    "## Slicing 2D arrays"
   ]
  },
  {
   "cell_type": "code",
   "execution_count": 19,
   "metadata": {},
   "outputs": [
    {
     "name": "stdout",
     "output_type": "stream",
     "text": [
      "[10  9  8]\n",
      "[6 5 4]\n",
      "[6 5]\n"
     ]
    }
   ],
   "source": [
    "a3 = np.array([[11,10,9,8],[7,6,5,4]])\n",
    "print a3[0,1:4]\n",
    "print a3[1,1:4]\n",
    "print a3[-1,-3:-1]"
   ]
  },
  {
   "cell_type": "code",
   "execution_count": 30,
   "metadata": {},
   "outputs": [
    {
     "name": "stdout",
     "output_type": "stream",
     "text": [
      "int32\n",
      "|S6\n",
      "object\n",
      "['1' '2' '3' '4']\n",
      "|S1\n"
     ]
    }
   ],
   "source": [
    "a4 = np.array(['apple', 'banana', 'cherry'])\n",
    "a5 = np.array([[\"kd\",\"gaurav\",\"vaish\",\"ayush\"],[\"prajwal\",\"lokesh\",\"adi\"]])\n",
    "a6 = np.array([1, 2, 3, 4])\n",
    "\n",
    "print a6.dtype \n",
    "print a4.dtype\n",
    "print a5.dtype\n",
    "\n",
    "#converting arrays data type\n",
    "a7 = np.array([1, 2, 3, 4], dtype='S')\n",
    "print(a7)\n",
    "print(a7.dtype)\n"
   ]
  },
  {
   "cell_type": "markdown",
   "metadata": {},
   "source": [
    "## astype()"
   ]
  },
  {
   "cell_type": "code",
   "execution_count": 33,
   "metadata": {},
   "outputs": [
    {
     "name": "stdout",
     "output_type": "stream",
     "text": [
      "float64\n",
      "int32\n",
      "[1 2 3]\n"
     ]
    }
   ],
   "source": [
    "a8 = np.array([1.1, 2.1, 3.1])\n",
    "\n",
    "new_a8 = a8.astype(int)\n",
    "\n",
    "print a8.dtype\n",
    "print new_a8.dtype\n",
    "print new_a8"
   ]
  },
  {
   "cell_type": "code",
   "execution_count": 34,
   "metadata": {},
   "outputs": [
    {
     "name": "stdout",
     "output_type": "stream",
     "text": [
      "int32\n",
      "bool\n",
      "[ True False  True]\n"
     ]
    }
   ],
   "source": [
    "a9 = np.array([1, 0, 3])\n",
    "\n",
    "new_a9 = a9.astype(bool)\n",
    "\n",
    "print(a9.dtype)\n",
    "print(new_a9.dtype)\n",
    "print new_a9"
   ]
  },
  {
   "cell_type": "code",
   "execution_count": 3,
   "metadata": {},
   "outputs": [
    {
     "name": "stdout",
     "output_type": "stream",
     "text": [
      "[[ 1  2  3  4  5]\n",
      " [ 6  7  8  9 10]\n",
      " [11 12 13 14 15]\n",
      " [16 17 18 19 20]]\n"
     ]
    }
   ],
   "source": [
    "A1= np.array([1, 2, 3, 4, 5, 6, 7, 8, 9, 10, 11, 12,13,14,15,16,17,18,19,20])\n",
    "\n",
    "newarr = A1.reshape(4,5)\n",
    "print newarr"
   ]
  },
  {
   "cell_type": "markdown",
   "metadata": {},
   "source": [
    "# Creating Array with differnet methods "
   ]
  },
  {
   "cell_type": "markdown",
   "metadata": {},
   "source": [
    "\n",
    "## Arrange"
   ]
  },
  {
   "cell_type": "code",
   "execution_count": 7,
   "metadata": {},
   "outputs": [
    {
     "data": {
      "text/plain": [
       "array([0, 1, 2, 3, 4, 5, 6, 7, 8, 9])"
      ]
     },
     "execution_count": 7,
     "metadata": {},
     "output_type": "execute_result"
    }
   ],
   "source": [
    "np.arange(10)"
   ]
  },
  {
   "cell_type": "code",
   "execution_count": 9,
   "metadata": {},
   "outputs": [
    {
     "name": "stdout",
     "output_type": "stream",
     "text": [
      "[(0., 0) (0., 0)]\n"
     ]
    }
   ],
   "source": [
    "b = np.zeros((2,), dtype=[('x', 'float'), ('y', 'int')])\n",
    "print b \n"
   ]
  },
  {
   "cell_type": "markdown",
   "metadata": {},
   "source": [
    "## Linspace()\n",
    "Syntax :numpy.linspcae(start,stop,num=50,restep,endpoint,dtype,axis)"
   ]
  },
  {
   "cell_type": "code",
   "execution_count": 14,
   "metadata": {},
   "outputs": [
    {
     "name": "stdout",
     "output_type": "stream",
     "text": [
      "[0 1 2 3 4 5 6 7 8 9]\n",
      "\n",
      "[0.   2.25 4.5  6.75 9.  ]\n",
      "\n",
      "[0.    1.125 2.25  3.375 4.5   5.625 6.75  7.875 9.   ]\n",
      "\n",
      "[0. 1. 2. 3. 4. 5. 6. 7. 8.]\n",
      "\n",
      "['0.0' '1.0' '2.0' '3.0' '4.0' '5.0' '6.0' '7.0' '8.0']\n"
     ]
    }
   ],
   "source": [
    "frr = np.arange(10) \n",
    "print frr\n",
    "\n",
    "frr1 = np.linspace(0,9,5)\n",
    "print\n",
    "print frr1\n",
    "\n",
    "frr2 = np.linspace(0,9,9)\n",
    "print\n",
    "print frr2\n",
    "\n",
    "frr3 = np.linspace(0,9,9,endpoint=False )\n",
    "print\n",
    "print frr3\n",
    "\n",
    "frr4 = np.linspace(0,9,9,endpoint=False,dtype=\"string\" )\n",
    "print\n",
    "print frr4\n",
    " \n",
    "\n",
    "\n"
   ]
  },
  {
   "cell_type": "markdown",
   "metadata": {},
   "source": [
    "## np.zeros"
   ]
  },
  {
   "cell_type": "code",
   "execution_count": 20,
   "metadata": {},
   "outputs": [
    {
     "name": "stdout",
     "output_type": "stream",
     "text": [
      "[[0. 0.]]\n",
      "[0. 0. 0. 0. 0. 0. 0.]\n",
      "[[0. 0. 0. 0. 0.]\n",
      " [0. 0. 0. 0. 0.]\n",
      " [0. 0. 0. 0. 0.]\n",
      " [0. 0. 0. 0. 0.]]\n"
     ]
    }
   ],
   "source": [
    "zero_arr=np.zeros([1,2],dtype=\"float\")\n",
    "print zero_arr\n",
    "zero_arr2=np.zeros([7],dtype=\"float\")\n",
    "print zero_arr2\n",
    "zero_arr3=np.zeros([4,5],dtype=\"float\")\n",
    "print zero_arr3"
   ]
  },
  {
   "cell_type": "markdown",
   "metadata": {},
   "source": [
    "## np.eye(R,C,k,dtype)\n",
    "bydefault R=C , k>0 -> diagonal k upar else niche "
   ]
  },
  {
   "cell_type": "code",
   "execution_count": 28,
   "metadata": {},
   "outputs": [
    {
     "name": "stdout",
     "output_type": "stream",
     "text": [
      "[[1. 0. 0. 0. 0. 0.]\n",
      " [0. 1. 0. 0. 0. 0.]\n",
      " [0. 0. 1. 0. 0. 0.]\n",
      " [0. 0. 0. 1. 0. 0.]\n",
      " [0. 0. 0. 0. 1. 0.]\n",
      " [0. 0. 0. 0. 0. 1.]]\n",
      "\n",
      "[[0. 1. 0. 0. 0. 0.]\n",
      " [0. 0. 1. 0. 0. 0.]\n",
      " [0. 0. 0. 1. 0. 0.]\n",
      " [0. 0. 0. 0. 1. 0.]\n",
      " [0. 0. 0. 0. 0. 1.]\n",
      " [0. 0. 0. 0. 0. 0.]]\n",
      "\n",
      "[[0. 0. 1. 0. 0. 0.]\n",
      " [0. 0. 0. 1. 0. 0.]\n",
      " [0. 0. 0. 0. 1. 0.]\n",
      " [0. 0. 0. 0. 0. 1.]\n",
      " [0. 0. 0. 0. 0. 0.]\n",
      " [0. 0. 0. 0. 0. 0.]]\n",
      "\n",
      "[[0. 0. 0. 0. 0. 0.]\n",
      " [1. 0. 0. 0. 0. 0.]\n",
      " [0. 1. 0. 0. 0. 0.]\n",
      " [0. 0. 1. 0. 0. 0.]\n",
      " [0. 0. 0. 1. 0. 0.]\n",
      " [0. 0. 0. 0. 1. 0.]]\n",
      "\n",
      "[[0. 0. 0. 0. 0. 0.]\n",
      " [0. 0. 0. 0. 0. 0.]\n",
      " [1. 0. 0. 0. 0. 0.]\n",
      " [0. 1. 0. 0. 0. 0.]\n",
      " [0. 0. 1. 0. 0. 0.]\n",
      " [0. 0. 0. 1. 0. 0.]]\n",
      "\n"
     ]
    }
   ],
   "source": [
    "err = np.eye(6,6,k=0)\n",
    "print err\n",
    "print\n",
    "\n",
    "err = np.eye(6,6,k=1)\n",
    "print err\n",
    "print\n",
    "\n",
    "err = np.eye(6,6,k=2)\n",
    "print err\n",
    "print\n",
    "\n",
    "err = np.eye(6,6,k=-1)\n",
    "print err\n",
    "print\n",
    "\n",
    "err = np.eye(6,6,k=-2)\n",
    "print err\n",
    "print"
   ]
  },
  {
   "cell_type": "markdown",
   "metadata": {},
   "source": [
    "## Ones"
   ]
  },
  {
   "cell_type": "code",
   "execution_count": 7,
   "metadata": {},
   "outputs": [
    {
     "name": "stdout",
     "output_type": "stream",
     "text": [
      "[1. 1. 1. 1. 1. 1. 1. 1.]\n",
      "\n",
      "[[1.]\n",
      " [1.]]\n",
      "\n",
      "[[1. 1. 1. 1. 1.]\n",
      " [1. 1. 1. 1. 1.]\n",
      " [1. 1. 1. 1. 1.]\n",
      " [1. 1. 1. 1. 1.]\n",
      " [1. 1. 1. 1. 1.]]\n"
     ]
    }
   ],
   "source": [
    "orr = np.ones(8)\n",
    "print orr\n",
    "print\n",
    "\n",
    "orr = np.ones([2,1])\n",
    "print orr\n",
    "print\n",
    "\n",
    "norr = np.ones([5,5])\n",
    "print norr\n"
   ]
  },
  {
   "cell_type": "markdown",
   "metadata": {},
   "source": [
    "## MAX,MIN,ARGMAX,ARGMIN"
   ]
  },
  {
   "cell_type": "code",
   "execution_count": 43,
   "metadata": {},
   "outputs": [
    {
     "name": "stdout",
     "output_type": "stream",
     "text": [
      "[[0 1 2 3 4]\n",
      " [5 6 7 8 9]]\n",
      "\n",
      "9\n",
      "0\n",
      "\n",
      "9\n",
      "0\n"
     ]
    }
   ],
   "source": [
    "a = np.arange(10).reshape(2,5)\n",
    "print a\n",
    "print \n",
    "print a.max()\n",
    "print a.min()\n",
    "print\n",
    "print np.argmax(a)\n",
    "print np.argmin(a)"
   ]
  },
  {
   "cell_type": "markdown",
   "metadata": {},
   "source": [
    "# EMPTY and FULL  ARRAY"
   ]
  },
  {
   "cell_type": "code",
   "execution_count": 48,
   "metadata": {},
   "outputs": [
    {
     "name": "stdout",
     "output_type": "stream",
     "text": [
      "[0 1 2 3 4 5 6 7 8 9]\n",
      "[[0. 1. 0.]\n",
      " [0. 0. 1.]\n",
      " [0. 0. 0.]\n",
      " [0. 0. 0.]]\n",
      "[[5 5 5 5]\n",
      " [5 5 5 5]\n",
      " [5 5 5 5]]\n"
     ]
    }
   ],
   "source": [
    "a=np.arange(10)\n",
    "# b=np.empty(R,C)\n",
    "b=np.empty([4,3])\n",
    "#full \n",
    "c=np.full((3,4),5)\n",
    "print a\n",
    "print b\n",
    "print c\n",
    "\n",
    "\n"
   ]
  },
  {
   "cell_type": "markdown",
   "metadata": {},
   "source": [
    "# VECTOR\n",
    "np.array(list)"
   ]
  },
  {
   "cell_type": "code",
   "execution_count": 52,
   "metadata": {},
   "outputs": [
    {
     "name": "stdout",
     "output_type": "stream",
     "text": [
      "[1 2 3 4 5]\n"
     ]
    }
   ],
   "source": [
    "lst = [1,2,3,4,5]\n",
    "vector = np.array(lst)\n",
    "print vector"
   ]
  },
  {
   "cell_type": "markdown",
   "metadata": {},
   "source": [
    "## Arthimatic operation on vector "
   ]
  },
  {
   "cell_type": "code",
   "execution_count": 56,
   "metadata": {},
   "outputs": [
    {
     "name": "stdout",
     "output_type": "stream",
     "text": [
      "[ 2  4  6  8 10] [12 16 18 24 20]\n",
      "Addition of two vectors [14 20 24 32 30]\n",
      "Subtraction  of two vectors [-10 -12 -12 -16 -10]\n",
      "Multiplication of two vectors [ 24  64 108 192 200]\n",
      "Division of two vectors [6 4 3 3 2]\n",
      "\n",
      "Dot Product of two vectors  588\n",
      "\n",
      "Multilication of vector ith scaler [ 4  8 12 16 20]\n"
     ]
    }
   ],
   "source": [
    "lst = [2,4,6,8,10]\n",
    "lstt = [12,16,18,24,20]\n",
    "vector_1 = np.array(lst)\n",
    "vector_2 = np.array(lstt)\n",
    "print vector_1,vector_2\n",
    "\n",
    "print \"Addition of two vectors\",vector_1 + vector_2\n",
    "print \"Subtraction  of two vectors\",vector_1 - vector_2\n",
    "print \"Multiplication of two vectors\",vector_1 * vector_2\n",
    "print \"Division of two vectors\",vector_2 / vector_1\n",
    "print \n",
    "print \"Dot Product of two vectors \",vector_1.dot(vector_2)\n",
    "print\n",
    "print \"Multilication of vector ith scaler\",vector_1*2"
   ]
  },
  {
   "cell_type": "markdown",
   "metadata": {},
   "source": [
    "# APPENDING VALUES"
   ]
  },
  {
   "cell_type": "markdown",
   "metadata": {},
   "source": [
    "## np.apped() & np.concatenate()"
   ]
  },
  {
   "cell_type": "code",
   "execution_count": 73,
   "metadata": {},
   "outputs": [
    {
     "name": "stdout",
     "output_type": "stream",
     "text": [
      "[0 1 2 3 4 5]\n",
      "[ 0  1  2  3  4  5 70]\n",
      "\n",
      "[0 1 2 3 4 5 0 1 2 3 4 5]\n",
      "\n",
      "[0 1 2 3 4 5 0 1 2 3 4 5]\n",
      "[100 110 110 110 104 125]\n"
     ]
    }
   ],
   "source": [
    "array_0=np.arange(6)\n",
    "print array_0\n",
    "\n",
    "new_array_0=np.append(array_0,[70])\n",
    "print new_array_0\n",
    "\n",
    "print\n",
    "\n",
    "array1=np.arange(6)\n",
    "concate_array = np.concatenate((array_0,array1),axis=0)\n",
    "print concate_array\n",
    "\n",
    "print \n",
    "\n",
    "array3=np.arange(6)\n",
    "concate_array3 = np.concatenate((array_0,array1),axis=0)\n",
    "print concate_array3\n",
    "\n",
    "array2=np.array([100,109,108,107,100,120])\n",
    "concate_array2 = np.concatenate([array1]+array2)\n",
    "print concate_array2\n",
    "\n"
   ]
  },
  {
   "cell_type": "markdown",
   "metadata": {},
   "source": [
    "## Appending array with array "
   ]
  },
  {
   "cell_type": "code",
   "execution_count": 75,
   "metadata": {},
   "outputs": [
    {
     "name": "stdout",
     "output_type": "stream",
     "text": [
      "[0 1 2 3 4 5 0 1 2 3 4 5 6 7 8 9]\n"
     ]
    }
   ],
   "source": [
    "array4=np.arange(6)\n",
    "array5 = np.arange(10)\n",
    "new_apended_arr= np.append(array4,array5)\n",
    "print new_apended_arr"
   ]
  },
  {
   "cell_type": "markdown",
   "metadata": {},
   "source": [
    "# Swapping Coumns \n"
   ]
  },
  {
   "cell_type": "markdown",
   "metadata": {},
   "source": [
    "# Stack(h,v,d)"
   ]
  },
  {
   "cell_type": "code",
   "execution_count": 12,
   "metadata": {},
   "outputs": [
    {
     "name": "stdout",
     "output_type": "stream",
     "text": [
      "[[0 1 2 3 4 5 6 7 8 9]\n",
      " [0 1 2 3 4 5 6 7 8 9]]\n",
      "\n",
      "[0 1 2 3 4 5 6 7 8 9 0 1 2 3 4 5 6 7 8 9]\n",
      "\n",
      "[[[0 0]\n",
      "  [1 1]\n",
      "  [2 2]\n",
      "  [3 3]\n",
      "  [4 4]\n",
      "  [5 5]\n",
      "  [6 6]\n",
      "  [7 7]\n",
      "  [8 8]\n",
      "  [9 9]]]\n"
     ]
    }
   ],
   "source": [
    "# stack((arr1,arr2))\n",
    "ar1d=np.arange(10)\n",
    "ar1d_2=np.arange(10)\n",
    "new_1d= np.vstack((ar1d,ar1d_2))\n",
    "s_1d= np.hstack((ar1d,ar1d_2))\n",
    "T_1d= np.dstack((ar1d,ar1d_2))\n",
    "print new_1d\n",
    "print\n",
    "print s_1d\n",
    "print \n",
    "print T_1d"
   ]
  },
  {
   "cell_type": "code",
   "execution_count": 16,
   "metadata": {},
   "outputs": [
    {
     "name": "stdout",
     "output_type": "stream",
     "text": [
      "[[0 1]\n",
      " [2 3]\n",
      " [4 5]\n",
      " [6 7]\n",
      " [8 9]]\n",
      "[[0 1]\n",
      " [2 3]\n",
      " [4 5]\n",
      " [6 7]\n",
      " [8 9]]\n",
      "[[0 1 2 3 4 5 6 7 8 9]\n",
      " [0 1 2 3 4 5 6 7 8 9]]\n",
      "\n",
      "[0 1 2 3 4 5 6 7 8 9 0 1 2 3 4 5 6 7 8 9]\n",
      "\n",
      "[[[0 0]\n",
      "  [1 1]\n",
      "  [2 2]\n",
      "  [3 3]\n",
      "  [4 4]\n",
      "  [5 5]\n",
      "  [6 6]\n",
      "  [7 7]\n",
      "  [8 8]\n",
      "  [9 9]]]\n"
     ]
    }
   ],
   "source": [
    "ar2d=np.arange(10).reshape(5,2)\n",
    "print ar2d\n",
    "ar2d_2=np.arange(10).reshape(5,2)\n",
    "print ar2d_2\n",
    "new_2d= np.vstack((ar2d,ar2d_2))\n",
    "s_2d= np.hstack((ar2d,ar2d_2))\n",
    "T_2d= np.dstack((ar2d,ar2d_2))\n",
    "print new_1d\n",
    "print\n",
    "print s_1d\n",
    "print \n",
    "print T_1d"
   ]
  },
  {
   "cell_type": "code",
   "execution_count": null,
   "metadata": {},
   "outputs": [],
   "source": []
  },
  {
   "cell_type": "markdown",
   "metadata": {},
   "source": [
    "# np.block\n",
    "Combine multipe arrays"
   ]
  },
  {
   "cell_type": "code",
   "execution_count": 36,
   "metadata": {},
   "outputs": [
    {
     "name": "stdout",
     "output_type": "stream",
     "text": [
      "[0 1 2 3 4 5 6 7 8 9]\n",
      "\n",
      "[0 1 2 3 4 5 6 7 8 9]\n",
      "\n",
      "[0 1 2 3 4 5 6 7 8 9]\n",
      "\n",
      "[0 1 2 3 4 5 6 7 8 9]\n",
      "\n",
      "[[0 1 2 3 4 5 6 7 8 9 0 1 2 3 4 5 6 7 8 9]\n",
      " [0 1 2 3 4 5 6 7 8 9 0 1 2 3 4 5 6 7 8 9]]\n",
      "\n"
     ]
    }
   ],
   "source": [
    "ar1d_3=np.arange(10)\n",
    "ar1d_4=np.arange(10)\n",
    "print ar1d\n",
    "print\n",
    "print ar1d_2\n",
    "print\n",
    "print ar1d_3\n",
    "print\n",
    "print ar1d_4\n",
    "print\n",
    "multiple = np.block([[ar1d,ar1d_2],[ar1d_3,ar1d_4]])\n",
    "print multiple\n",
    "print\n",
    "\n",
    "    "
   ]
  },
  {
   "cell_type": "code",
   "execution_count": null,
   "metadata": {},
   "outputs": [],
   "source": []
  },
  {
   "cell_type": "code",
   "execution_count": null,
   "metadata": {},
   "outputs": [],
   "source": []
  },
  {
   "cell_type": "markdown",
   "metadata": {},
   "source": [
    "# Splitting arrays \n",
    "## syntax : np.split(array_name,no_of_subarrays,axis)"
   ]
  },
  {
   "cell_type": "code",
   "execution_count": 38,
   "metadata": {},
   "outputs": [
    {
     "name": "stdout",
     "output_type": "stream",
     "text": [
      "[array([0, 1]), array([2, 3])]\n",
      "[array([0, 1, 2]), array([3, 4])]\n",
      "[array([[0, 1, 2]]), array([[3, 4, 5]])]\n"
     ]
    }
   ],
   "source": [
    "array6=np.arange(4)\n",
    "sub_arr=np.split(array6,2)#equal sub arrays\n",
    "print sub_arr\n",
    "\n",
    "array7=np.arange(5)\n",
    "sub_arr1=np.array_split(array7,2)#unequal sub arrays\n",
    "print sub_arr1\n",
    "\n",
    "array8=np.arange(6).reshape(2,3)\n",
    "sub_ar22=np.split(array8,2)\n",
    "print sub_ar22"
   ]
  },
  {
   "cell_type": "markdown",
   "metadata": {},
   "source": [
    "## Comapring  arrays \n",
    "1, by == \n",
    "\n",
    "2, method \n"
   ]
  },
  {
   "cell_type": "code",
   "execution_count": 85,
   "metadata": {},
   "outputs": [
    {
     "name": "stdout",
     "output_type": "stream",
     "text": [
      "not-Equal\n"
     ]
    },
    {
     "name": "stderr",
     "output_type": "stream",
     "text": [
      "C:\\ProgramData\\Anaconda2\\lib\\site-packages\\ipykernel_launcher.py:1: DeprecationWarning: elementwise == comparison failed; this will raise an error in the future.\n",
      "  \"\"\"Entry point for launching an IPython kernel.\n"
     ]
    }
   ],
   "source": [
    "if array6==array7:\n",
    "    print \"equal\"\n",
    "else:\n",
    "    print \"not-Equal\""
   ]
  },
  {
   "cell_type": "code",
   "execution_count": 94,
   "metadata": {},
   "outputs": [
    {
     "name": "stdout",
     "output_type": "stream",
     "text": [
      "[False False False  True False]\n",
      "[ True  True  True False False]\n",
      "\n",
      "[False False False  True  True]\n",
      "[ True  True  True False  True]\n",
      "\n",
      "[ True  True  True False False]\n",
      "[False False False  True False]\n",
      "\n",
      "[ True  True  True False  True]\n",
      "[False False False  True  True]\n"
     ]
    }
   ],
   "source": [
    "array9=np.array([2,4,63,76,7])\n",
    "array10=np.array([14,5,67,3,7])\n",
    "print np.greater(array9,array10)\n",
    "print np.greater(array10,array9)\n",
    "print\n",
    "print np.greater_equal(array9,array10)\n",
    "print np.greater_equal(array10,array9)\n",
    "print\n",
    "print np.less(array9,array10)\n",
    "print np.less(array10,array9)\n",
    "print \n",
    "print np.less_equal(array9,array10)\n",
    "print np.less_equal(array10,array9)"
   ]
  },
  {
   "cell_type": "markdown",
   "metadata": {},
   "source": [
    "# UNION of Arrays "
   ]
  },
  {
   "cell_type": "code",
   "execution_count": 95,
   "metadata": {},
   "outputs": [
    {
     "name": "stdout",
     "output_type": "stream",
     "text": [
      "[ 2  3  4  5  7 14 63 67 76]\n"
     ]
    }
   ],
   "source": [
    "union=np.union1d(array9,array10)\n",
    "print union "
   ]
  },
  {
   "cell_type": "code",
   "execution_count": 98,
   "metadata": {},
   "outputs": [
    {
     "name": "stdout",
     "output_type": "stream",
     "text": [
      "[1 2 3 4 5 6 7 8 9]\n"
     ]
    }
   ],
   "source": [
    "arr2d1=np.array([[1,2,2],[1,2,3]])\n",
    "arr2d2=np.array([[4,5,9],[6,7,8]])\n",
    "union2=np.union1d(arr2d1,arr2d2)\n",
    "print union2 "
   ]
  },
  {
   "cell_type": "code",
   "execution_count": null,
   "metadata": {},
   "outputs": [],
   "source": []
  }
 ],
 "metadata": {
  "kernelspec": {
   "display_name": "Python 2",
   "language": "python",
   "name": "python2"
  },
  "language_info": {
   "codemirror_mode": {
    "name": "ipython",
    "version": 2
   },
   "file_extension": ".py",
   "mimetype": "text/x-python",
   "name": "python",
   "nbconvert_exporter": "python",
   "pygments_lexer": "ipython2",
   "version": "2.7.14"
  }
 },
 "nbformat": 4,
 "nbformat_minor": 2
}
